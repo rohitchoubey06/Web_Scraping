{
 "cells": [
  {
   "cell_type": "code",
   "execution_count": 1,
   "id": "4f9d5051",
   "metadata": {},
   "outputs": [],
   "source": [
    "from bs4 import BeautifulSoup\n",
    "import requests\n",
    "import pandas as pd"
   ]
  },
  {
   "cell_type": "code",
   "execution_count": 2,
   "id": "4563d118",
   "metadata": {},
   "outputs": [],
   "source": [
    "url = \"https://en.wikipedia.org/wiki/Elon_Musk\"\n",
    "response = requests.get(url)"
   ]
  },
  {
   "cell_type": "code",
   "execution_count": 4,
   "id": "886b2ca4",
   "metadata": {},
   "outputs": [],
   "source": [
    "soup = BeautifulSoup(response.text,'html.parser')"
   ]
  },
  {
   "cell_type": "code",
   "execution_count": 8,
   "id": "1b49bcb8",
   "metadata": {},
   "outputs": [],
   "source": [
    "info = soup.find_all('tbody')[0]"
   ]
  },
  {
   "cell_type": "code",
   "execution_count": 15,
   "id": "062d0e7f",
   "metadata": {},
   "outputs": [],
   "source": [
    "details = [i.text for i in info.find_all('th')][1:]"
   ]
  },
  {
   "cell_type": "code",
   "execution_count": 21,
   "id": "eefc260b",
   "metadata": {},
   "outputs": [],
   "source": [
    "info_list = [i.text for i in info.findChildren('td')][1:]"
   ]
  },
  {
   "cell_type": "code",
   "execution_count": 23,
   "id": "0290f84f",
   "metadata": {},
   "outputs": [],
   "source": [
    "info_list = [i.strip() for i in info_list]"
   ]
  },
  {
   "cell_type": "code",
   "execution_count": 25,
   "id": "e49bc14a",
   "metadata": {},
   "outputs": [],
   "source": [
    "df = pd.DataFrame(info_list,index=details,columns=['Info'])"
   ]
  },
  {
   "cell_type": "code",
   "execution_count": 27,
   "id": "fb3fa082",
   "metadata": {},
   "outputs": [
    {
     "data": {
      "text/html": [
       "<div>\n",
       "<style scoped>\n",
       "    .dataframe tbody tr th:only-of-type {\n",
       "        vertical-align: middle;\n",
       "    }\n",
       "\n",
       "    .dataframe tbody tr th {\n",
       "        vertical-align: top;\n",
       "    }\n",
       "\n",
       "    .dataframe thead th {\n",
       "        text-align: right;\n",
       "    }\n",
       "</style>\n",
       "<table border=\"1\" class=\"dataframe\">\n",
       "  <thead>\n",
       "    <tr style=\"text-align: right;\">\n",
       "      <th></th>\n",
       "      <th>Info</th>\n",
       "    </tr>\n",
       "  </thead>\n",
       "  <tbody>\n",
       "    <tr>\n",
       "      <th>Born</th>\n",
       "      <td>Elon Reeve Musk (1971-06-28) June 28, 1971 (ag...</td>\n",
       "    </tr>\n",
       "    <tr>\n",
       "      <th>Citizenship</th>\n",
       "      <td>South Africa\\nCanada\\nUnited States</td>\n",
       "    </tr>\n",
       "  </tbody>\n",
       "</table>\n",
       "</div>"
      ],
      "text/plain": [
       "                                                          Info\n",
       "Born         Elon Reeve Musk (1971-06-28) June 28, 1971 (ag...\n",
       "Citizenship                South Africa\\nCanada\\nUnited States"
      ]
     },
     "execution_count": 27,
     "metadata": {},
     "output_type": "execute_result"
    }
   ],
   "source": [
    "df.head(2)"
   ]
  },
  {
   "cell_type": "code",
   "execution_count": 28,
   "id": "e2d63c52",
   "metadata": {},
   "outputs": [],
   "source": [
    "def get_html_data_to_df(url):\n",
    "    response = requests.get(url) #generated a response\n",
    "    soup = BeautifulSoup(response.text,'html.parser') #created a \"soup\" \n",
    "    \n",
    "    info = soup.find_all('tbody')[0] #created an 'info' holding info of first 'tbody' tag\n",
    "    \n",
    "    details = [i.text for i in info.find_all('th')][1:] #indexes of df\n",
    "    \n",
    "    info_list = [i.text for i in info.findChildren('td')][1:] #actual info that we parsed\n",
    "    \n",
    "    info_list = [i.strip() for i in info_list] #removed whitespaces\n",
    "    \n",
    "    df = pd.DataFrame(info_list,index=details,columns=['Info']) #final df\n",
    "    return df"
   ]
  },
  {
   "cell_type": "code",
   "execution_count": 29,
   "id": "216c06f2",
   "metadata": {},
   "outputs": [
    {
     "data": {
      "text/html": [
       "<div>\n",
       "<style scoped>\n",
       "    .dataframe tbody tr th:only-of-type {\n",
       "        vertical-align: middle;\n",
       "    }\n",
       "\n",
       "    .dataframe tbody tr th {\n",
       "        vertical-align: top;\n",
       "    }\n",
       "\n",
       "    .dataframe thead th {\n",
       "        text-align: right;\n",
       "    }\n",
       "</style>\n",
       "<table border=\"1\" class=\"dataframe\">\n",
       "  <thead>\n",
       "    <tr style=\"text-align: right;\">\n",
       "      <th></th>\n",
       "      <th>Info</th>\n",
       "    </tr>\n",
       "  </thead>\n",
       "  <tbody>\n",
       "    <tr>\n",
       "      <th>Born</th>\n",
       "      <td>Elon Reeve Musk (1971-06-28) June 28, 1971 (ag...</td>\n",
       "    </tr>\n",
       "    <tr>\n",
       "      <th>Citizenship</th>\n",
       "      <td>South Africa\\nCanada\\nUnited States</td>\n",
       "    </tr>\n",
       "    <tr>\n",
       "      <th>Education</th>\n",
       "      <td>University of Pennsylvania (BA, BS)</td>\n",
       "    </tr>\n",
       "    <tr>\n",
       "      <th>Title</th>\n",
       "      <td>Founder, CEO, and chief engineer of SpaceX\\nCE...</td>\n",
       "    </tr>\n",
       "    <tr>\n",
       "      <th>Spouses</th>\n",
       "      <td>Justine Wilson\\n​ ​(m. 2000; div. 2008)​\\nTalu...</td>\n",
       "    </tr>\n",
       "    <tr>\n",
       "      <th>Partners</th>\n",
       "      <td>Amber Heard (2015–2017)[1]Grimes (2018–2021)[2]</td>\n",
       "    </tr>\n",
       "    <tr>\n",
       "      <th>Children</th>\n",
       "      <td>11[a][4]</td>\n",
       "    </tr>\n",
       "    <tr>\n",
       "      <th>Parents</th>\n",
       "      <td>Errol MuskMaye Musk</td>\n",
       "    </tr>\n",
       "    <tr>\n",
       "      <th>Relatives</th>\n",
       "      <td>Kimbal Musk (brother)\\nTosca Musk (sister)\\nLy...</td>\n",
       "    </tr>\n",
       "    <tr>\n",
       "      <th>Family</th>\n",
       "      <td>Musk family</td>\n",
       "    </tr>\n",
       "    <tr>\n",
       "      <th>Signature</th>\n",
       "      <td></td>\n",
       "    </tr>\n",
       "  </tbody>\n",
       "</table>\n",
       "</div>"
      ],
      "text/plain": [
       "                                                          Info\n",
       "Born         Elon Reeve Musk (1971-06-28) June 28, 1971 (ag...\n",
       "Citizenship                South Africa\\nCanada\\nUnited States\n",
       "Education                  University of Pennsylvania (BA, BS)\n",
       "Title        Founder, CEO, and chief engineer of SpaceX\\nCE...\n",
       "Spouses      Justine Wilson\\n​ ​(m. 2000; div. 2008)​\\nTalu...\n",
       "Partners       Amber Heard (2015–2017)[1]Grimes (2018–2021)[2]\n",
       "Children                                              11[a][4]\n",
       "Parents                                    Errol MuskMaye Musk\n",
       "Relatives    Kimbal Musk (brother)\\nTosca Musk (sister)\\nLy...\n",
       "Family                                             Musk family\n",
       "Signature                                                     "
      ]
     },
     "execution_count": 29,
     "metadata": {},
     "output_type": "execute_result"
    }
   ],
   "source": [
    "get_html_data_to_df(url)"
   ]
  },
  {
   "cell_type": "code",
   "execution_count": null,
   "id": "32c6db23",
   "metadata": {},
   "outputs": [],
   "source": []
  }
 ],
 "metadata": {
  "kernelspec": {
   "display_name": "Python 3 (ipykernel)",
   "language": "python",
   "name": "python3"
  },
  "language_info": {
   "codemirror_mode": {
    "name": "ipython",
    "version": 3
   },
   "file_extension": ".py",
   "mimetype": "text/x-python",
   "name": "python",
   "nbconvert_exporter": "python",
   "pygments_lexer": "ipython3",
   "version": "3.9.7"
  }
 },
 "nbformat": 4,
 "nbformat_minor": 5
}
